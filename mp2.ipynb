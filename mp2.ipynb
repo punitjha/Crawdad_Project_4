{
 "cells": [
  {
   "cell_type": "code",
   "execution_count": 182,
   "metadata": {
    "collapsed": false
   },
   "outputs": [
    {
     "name": "stdout",
     "output_type": "stream",
     "text": [
      "Nuclear repulsion energy in Hartree \n",
      " 8.00236706181045 \n",
      "\n",
      "Overlap Integral Matrix \n",
      " \n",
      "\n",
      " 1.00000000  0.23670394 -0.00000000 -0.00000000 -0.00000000  0.03840560  0.03840560 \n",
      " 0.23670394  1.00000000  0.00000000 -0.00000000  0.00000000  0.38613884  0.38613884 \n",
      "-0.00000000  0.00000000  1.00000000 -0.00000000  0.00000000  0.26843824 -0.26843824 \n",
      "-0.00000000 -0.00000000 -0.00000000  1.00000000 -0.00000000  0.20972694  0.20972694 \n",
      "-0.00000000  0.00000000  0.00000000 -0.00000000  1.00000000 -0.00000000 -0.00000000 \n",
      " 0.03840560  0.38613884  0.26843824  0.20972694 -0.00000000  1.00000000  0.18175989 \n",
      " 0.03840560  0.38613884 -0.26843824  0.20972694 -0.00000000  0.18175989  1.00000000 \n"
     ]
    }
   ],
   "source": [
    "\"\"\"\n",
    "The Second-Order Moller-Plesset Perturbation Theory (MP2) Energy code\n",
    "\"\"\"\n",
    "\n",
    "import matplotlib.pyplot as plt\n",
    "import numpy as np\n",
    "from numpy import linalg as LA\n",
    "\n",
    "nu_repul=np.loadtxt('enuc.dat')\n",
    "print(\"Nuclear repulsion energy in Hartree \\n\",nu_repul,\"\\n\")\n",
    "\n",
    "#The overlap matrix\n",
    "overlap=np.loadtxt('s.dat')\n",
    "over_mat=np.zeros((int(overlap[overlap.shape[0]-1,0]), int(overlap[overlap.shape[0]-1,0])))\n",
    "for row in range(overlap.shape[0]):\n",
    "    i1=int(overlap[row,0])\n",
    "    i2=int(overlap[row,1])\n",
    "    val=overlap[row,2]\n",
    "    over_mat[i1-1,i2-1]=over_mat[i2-1,i1-1]=val\n",
    "print (\"Overlap Integral Matrix \\n \\n\")\n",
    "for row in range(over_mat.shape[0]):\n",
    "    for col in range(over_mat.shape[1]):\n",
    "        print('{:11.8f}'.format(over_mat[row,col]),end=' ')\n",
    "    print()\n",
    "\n",
    "#The first index function\n",
    "def index1(i, j):\n",
    "    ij=i*(i+1)/2+j\n",
    "    return ij\n",
    "\n",
    "#The second index function\n",
    "def index2(i, j, k, l):\n",
    "    if (i>j):\n",
    "        ij=index1(i,j)\n",
    "    else:\n",
    "        ij=index1(j,i)\n",
    "    if (k>l):\n",
    "        kl=index1(l,k)\n",
    "    else:\n",
    "        kl=index1(k,l)\n",
    "    if (ij> kl):\n",
    "        ijkl=index1(ij,kl)\n",
    "    else:\n",
    "        ijkl=index1(kl,ij)\n",
    "    return ijkl"
   ]
  },
  {
   "cell_type": "code",
   "execution_count": 177,
   "metadata": {
    "collapsed": false
   },
   "outputs": [
    {
     "name": "stdout",
     "output_type": "stream",
     "text": [
      "\n",
      " Kinetic Energy Matrix \n",
      " \n",
      "\n",
      "29.00319995 -0.16801094  0.00000000  0.00000000 -0.00000000 -0.00841638 -0.00841638 \n",
      "-0.16801094  0.80812795  0.00000000 -0.00000000  0.00000000  0.07051737  0.07051737 \n",
      " 0.00000000  0.00000000  2.52873120 -0.00000000  0.00000000  0.14709091 -0.14709091 \n",
      " 0.00000000 -0.00000000 -0.00000000  2.52873120 -0.00000000  0.11492002  0.11492002 \n",
      "-0.00000000  0.00000000  0.00000000 -0.00000000  2.52873120 -0.00000000 -0.00000000 \n",
      "-0.00841638  0.07051737  0.14709091  0.11492002 -0.00000000  0.76003188 -0.00397987 \n",
      "-0.00841638  0.07051737 -0.14709091  0.11492002 -0.00000000 -0.00397987  0.76003188 \n"
     ]
    }
   ],
   "source": [
    "#The kinetic energy matrix\n",
    "kinetic=np.loadtxt('t.dat')\n",
    "kinetic_mat=np.zeros((int(kinetic[kinetic.shape[0]-1,0]),int(kinetic[kinetic.shape[0]-1,0])))\n",
    "for row in range(kinetic.shape[0]):\n",
    "    i1=int(kinetic[row,0])\n",
    "    i2=int(kinetic[row,1])\n",
    "    val=kinetic[row,2]\n",
    "    kinetic_mat[i1-1,i2-1]=kinetic_mat[i2-1,i1-1]=val\n",
    "print (\"\\n Kinetic Energy Matrix \\n \\n\")\n",
    "for row in range(kinetic_mat.shape[0]):\n",
    "    for col in range(kinetic_mat.shape[1]):\n",
    "        print('{:11.8f}'.format(kinetic_mat[row,col]),end=' ')\n",
    "    print()"
   ]
  },
  {
   "cell_type": "code",
   "execution_count": 178,
   "metadata": {
    "collapsed": false
   },
   "outputs": [
    {
     "name": "stdout",
     "output_type": "stream",
     "text": [
      "\n",
      "  Nuclear Att. Integrals are  \n",
      " \n",
      "\n",
      "-61.5805954  -7.4108219   0.0000000  -0.0144738   0.0000000  -1.2316859  -1.2316859 \n",
      " -7.4108219 -10.0090712   0.0000000  -0.1768902   0.0000000  -2.9772272  -2.9772272 \n",
      "  0.0000000   0.0000000  -9.9875505   0.0000000  -0.0000000  -1.8222411   1.8222411 \n",
      " -0.0144738  -0.1768902   0.0000000  -9.9440430   0.0000000  -1.4717883  -1.4717883 \n",
      "  0.0000000   0.0000000  -0.0000000   0.0000000  -9.8758761   0.0000000   0.0000000 \n",
      " -1.2316859  -2.9772272  -1.8222411  -1.4717883   0.0000000  -5.3002030  -1.0671660 \n",
      " -1.2316859  -2.9772272   1.8222411  -1.4717883   0.0000000  -1.0671660  -5.3002030 \n"
     ]
    }
   ],
   "source": [
    "#The nuclear attraction matrix\n",
    "nuk_att=np.loadtxt('v.dat')\n",
    "nuk_mat=np.zeros((int(nuk_att[nuk_att.shape[0]-1,0]),int(nuk_att[nuk_att.shape[0]-1,0])))\n",
    "for row in range(nuk_att.shape[0]):\n",
    "    i1=int(nuk_att[row,0])\n",
    "    i2=int(nuk_att[row,1])\n",
    "    val=nuk_att[row,2]\n",
    "    nuk_mat[i1-1,i2-1]=nuk_mat[i2-1,i1-1]=val\n",
    "print (\"\\n  Nuclear Att. Integrals are  \\n \\n\")\n",
    "for row in range(nuk_mat.shape[0]):\n",
    "    for col in range(nuk_mat.shape[1]):\n",
    "        print('{:11.7f}'.format(nuk_mat[row,col]),end=' ')\n",
    "    print()\n",
    "    "
   ]
  },
  {
   "cell_type": "code",
   "execution_count": 179,
   "metadata": {
    "collapsed": false
   },
   "outputs": [
    {
     "name": "stdout",
     "output_type": "stream",
     "text": [
      "\n",
      " This is the Core Hamiltonian Matrix \n",
      " \n",
      "\n",
      "-32.5773954  -7.5788328   0.0000000  -0.0144738   0.0000000  -1.2401023  -1.2401023 \n",
      " -7.5788328  -9.2009433   0.0000000  -0.1768902   0.0000000  -2.9067098  -2.9067098 \n",
      "  0.0000000   0.0000000  -7.4588193   0.0000000   0.0000000  -1.6751501   1.6751501 \n",
      " -0.0144738  -0.1768902   0.0000000  -7.4153118   0.0000000  -1.3568683  -1.3568683 \n",
      "  0.0000000   0.0000000   0.0000000   0.0000000  -7.3471449   0.0000000   0.0000000 \n",
      " -1.2401023  -2.9067098  -1.6751501  -1.3568683   0.0000000  -4.5401711  -1.0711459 \n",
      " -1.2401023  -2.9067098   1.6751501  -1.3568683   0.0000000  -1.0711459  -4.5401711 \n"
     ]
    }
   ],
   "source": [
    "#np.set_printoptions(precision=4)\n",
    "#The the core Hamiltonian matrix\n",
    "H_core=kinetic_mat+nuk_mat\n",
    "print (\"\\n This is the Core Hamiltonian Matrix \\n \\n\")\n",
    "for row in range(H_core.shape[0]):\n",
    "    for col in range(H_core.shape[1]):\n",
    "        print('{:11.7f}'.format(H_core[row,col]),end=' ')\n",
    "    print()"
   ]
  },
  {
   "cell_type": "code",
   "execution_count": 208,
   "metadata": {
    "collapsed": false
   },
   "outputs": [
    {
     "name": "stdout",
     "output_type": "stream",
     "text": [
      "The eigenvalues are: \n",
      " \n",
      " [ 0.4342  0.5188  0.8857  1.      1.1001  1.2995  1.7617]\n",
      "\n",
      "\n",
      "\n",
      "The eigenvectors are: \n",
      " \n",
      "  [[ -2.2829e-01  -5.5833e-16  -6.8910e-01   0.0000e+00  -6.4656e-01\n",
      "   -4.4948e-16  -2.3452e-01]\n",
      " [  6.8605e-01   1.5031e-15   2.7740e-01   4.2594e-32  -3.2411e-01\n",
      "   -7.7317e-16  -5.8936e-01]\n",
      " [ -1.3323e-15   6.1935e-01   4.1633e-16   1.8489e-31  -9.9920e-16\n",
      "    7.8512e-01  -1.1102e-16]\n",
      " [  3.2075e-01   9.4369e-16  -6.2473e-01   1.4745e-31   6.5433e-01\n",
      "    9.9920e-16  -2.8052e-01]\n",
      " [  0.0000e+00  -1.1102e-16   9.8608e-32   1.0000e+00  -2.9582e-31\n",
      "    1.1102e-16  -2.4652e-32]\n",
      " [ -4.3264e-01  -5.5516e-01   1.7017e-01  -1.1102e-16   1.5616e-01\n",
      "    4.3795e-01  -5.0940e-01]\n",
      " [ -4.3264e-01   5.5516e-01   1.7017e-01   1.1102e-16   1.5616e-01\n",
      "   -4.3795e-01  -5.0940e-01]]\n",
      "\n",
      "\n",
      "\n",
      "The eigenvectors are:\n",
      "  [[ 1.5176  0.      0.      0.      0.      0.      0.    ]\n",
      " [ 0.      1.3884  0.      0.      0.      0.      0.    ]\n",
      " [ 0.      0.      1.0625  0.      0.      0.      0.    ]\n",
      " [ 0.      0.      0.      1.      0.      0.      0.    ]\n",
      " [ 0.      0.      0.      0.      0.9534  0.      0.    ]\n",
      " [ 0.      0.      0.      0.      0.      0.8772  0.    ]\n",
      " [ 0.      0.      0.      0.      0.      0.      0.7534]]\n",
      "\n",
      "\n",
      "\n",
      "The symmetric orthogonalization matrix is:\n",
      "\n",
      " \n",
      "  1.0236346  -0.1368547   0.0000000  -0.0074873   0.0000000   0.0190279   0.0190279 \n",
      " -0.1368547   1.1578632  -0.0000000   0.0721601  -0.0000000  -0.2223326  -0.2223326 \n",
      "  0.0000000  -0.0000000   1.0733148  -0.0000000  -0.0000000  -0.1757583   0.1757583 \n",
      " -0.0074873   0.0721601  -0.0000000   1.0383050  -0.0000000  -0.1184626  -0.1184626 \n",
      "  0.0000000  -0.0000000  -0.0000000  -0.0000000   1.0000000   0.0000000  -0.0000000 \n",
      "  0.0190279  -0.2223326  -0.1757583  -0.1184626   0.0000000   1.1297234  -0.0625975 \n",
      "  0.0190279  -0.2223326   0.1757583  -0.1184626  -0.0000000  -0.0625975   1.1297234 \n"
     ]
    }
   ],
   "source": [
    "\"\"\"\n",
    "Reading in the the two electron integrals\n",
    "\"\"\"\n",
    "ele_int=np.loadtxt('eri.dat')\n",
    "#np.set_printoptions(threshold=10000)\n",
    "d_I =np.zeros(800)\n",
    "for row in range(ele_int.shape[0]):\n",
    "    i=int(ele_int[row,0])\n",
    "    j=int(ele_int[row,1])\n",
    "    k=int(ele_int[row,2])\n",
    "    l=int(ele_int[row,3])\n",
    "    val=ele_int[row,4]\n",
    "    ijkl=int(index2(i,j,k,l))\n",
    "    d_I[ijkl]=val\n",
    "    \n",
    "\n",
    "#Diagonilizing the matrix\n",
    "eigval, eigvec=LA.eigh(over_mat)\n",
    "print(\"The eigenvalues are:\", \"\\n \\n\",eigval)\n",
    "print(\"\\n\\n\\nThe eigenvectors are: \\n \\n \",eigvec)\n",
    "eig_t=eigvec.transpose()\n",
    "eigval=eigval**(-1/2)\n",
    "eigval_m=np.diag(eigval)\n",
    "print(\"\\n\\n\\nThe eigenvectors are:\\n \",eigval_m)\n",
    "s_1by2=eigvec.dot(eigval_m).dot(eig_t)\n",
    "print(\"\\n\\n\\nThe symmetric orthogonalization matrix is:\\n\\n \")\n",
    "for row in range(s_1by2.shape[0]):\n",
    "    for col in range(s_1by2.shape[1]):\n",
    "        print('{:11.7f}'.format(s_1by2[row,col]),end=' ')\n",
    "    print()"
   ]
  },
  {
   "cell_type": "code",
   "execution_count": null,
   "metadata": {
    "collapsed": true
   },
   "outputs": [],
   "source": []
  }
 ],
 "metadata": {
  "celltoolbar": "Raw Cell Format",
  "kernelspec": {
   "display_name": "Python 3",
   "language": "python",
   "name": "python3"
  },
  "language_info": {
   "codemirror_mode": {
    "name": "ipython",
    "version": 3
   },
   "file_extension": ".py",
   "mimetype": "text/x-python",
   "name": "python",
   "nbconvert_exporter": "python",
   "pygments_lexer": "ipython3",
   "version": "3.6.0"
  }
 },
 "nbformat": 4,
 "nbformat_minor": 2
}
