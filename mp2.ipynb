{
 "cells": [
  {
   "cell_type": "code",
   "execution_count": 65,
   "metadata": {
    "collapsed": false
   },
   "outputs": [
    {
     "name": "stdout",
     "output_type": "stream",
     "text": [
      "This is the nuclear repulsion energy in Hartree 8.00236706181045\n",
      "This is the overlap integral matrix \n",
      " [[ 1.                 1.                 1.               ]\n",
      " [ 2.                 1.                 0.236703936510848]\n",
      " [ 2.                 2.                 1.               ]\n",
      " [ 3.                 1.                -0.               ]\n",
      " [ 3.                 2.                 0.               ]\n",
      " [ 3.                 3.                 1.               ]\n",
      " [ 4.                 1.                -0.               ]\n",
      " [ 4.                 2.                -0.               ]\n",
      " [ 4.                 3.                -0.               ]\n",
      " [ 4.                 4.                 1.               ]\n",
      " [ 5.                 1.                -0.               ]\n",
      " [ 5.                 2.                 0.               ]\n",
      " [ 5.                 3.                 0.               ]\n",
      " [ 5.                 4.                -0.               ]\n",
      " [ 5.                 5.                 1.               ]\n",
      " [ 6.                 1.                 0.038405599785757]\n",
      " [ 6.                 2.                 0.386138840478249]\n",
      " [ 6.                 3.                 0.268438243716457]\n",
      " [ 6.                 4.                 0.209726941420375]\n",
      " [ 6.                 5.                -0.               ]\n",
      " [ 6.                 6.                 1.               ]\n",
      " [ 7.                 1.                 0.038405599785757]\n",
      " [ 7.                 2.                 0.38613884047825 ]\n",
      " [ 7.                 3.                -0.268438243716457]\n",
      " [ 7.                 4.                 0.209726941420375]\n",
      " [ 7.                 5.                -0.               ]\n",
      " [ 7.                 6.                 0.181759886298063]\n",
      " [ 7.                 7.                 1.               ]]\n",
      "28\n"
     ]
    }
   ],
   "source": [
    "\"\"\"\n",
    "The Second-Order Moller-Plesset Perturbation Theory (MP2) Energy code\n",
    "\"\"\"\n",
    "\n",
    "import matplotlib.pyplot as plt\n",
    "import numpy as np\n",
    "\n",
    "\n",
    "nu_repul=np.loadtxt('enuc.dat')\n",
    "overlap=np.loadtxt('s.dat')\n",
    "\n",
    "np.set_printoptions(precision=16)\n",
    "print(\"This is the nuclear repulsion energy in Hartree\",nu_repul)\n",
    "print (\"This is the overlap integral matrix \\n\",overlap[:])\n",
    "#print ('We are the {} who say \"{}!\"'.format('knights', 'Ni'))\n",
    "#print('\\n'.join(['%f %f %f ' % (overlap[k,k],overlap[k,k],overlap[k,k] ) for k in xrange(len(l))])\n",
    "print(len(overlap))"
   ]
  },
  {
   "cell_type": "code",
   "execution_count": null,
   "metadata": {
    "collapsed": true
   },
   "outputs": [],
   "source": []
  },
  {
   "cell_type": "code",
   "execution_count": null,
   "metadata": {
    "collapsed": true
   },
   "outputs": [],
   "source": []
  }
 ],
 "metadata": {
  "kernelspec": {
   "display_name": "Python 3",
   "language": "python",
   "name": "python3"
  },
  "language_info": {
   "codemirror_mode": {
    "name": "ipython",
    "version": 3
   },
   "file_extension": ".py",
   "mimetype": "text/x-python",
   "name": "python",
   "nbconvert_exporter": "python",
   "pygments_lexer": "ipython3",
   "version": "3.6.0"
  }
 },
 "nbformat": 4,
 "nbformat_minor": 2
}
