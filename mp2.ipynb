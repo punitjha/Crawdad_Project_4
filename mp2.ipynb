{
 "cells": [
  {
   "cell_type": "code",
   "execution_count": 75,
   "metadata": {
    "collapsed": false
   },
   "outputs": [
    {
     "name": "stdout",
     "output_type": "stream",
     "text": [
      "Nuclear repulsion energy in Hartree \n",
      " 8.00236706181045 \n",
      "\n",
      "Overlap Integral Matrix \n",
      " \n",
      " [[ 1.       0.2367  -0.      -0.      -0.       0.03841  0.03841]\n",
      " [ 0.2367   1.       0.      -0.       0.       0.38614  0.38614]\n",
      " [-0.       0.       1.      -0.       0.       0.26844 -0.26844]\n",
      " [-0.      -0.      -0.       1.      -0.       0.20973  0.20973]\n",
      " [-0.       0.       0.      -0.       1.      -0.      -0.     ]\n",
      " [ 0.03841  0.38614  0.26844  0.20973 -0.       1.       0.18176]\n",
      " [ 0.03841  0.38614 -0.26844  0.20973 -0.       0.18176  1.     ]] \n",
      "\n",
      "Kinetic Energy Matrix \n",
      " \n",
      " [[  2.90032e+01  -1.68011e-01   0.00000e+00   0.00000e+00  -0.00000e+00\n",
      "   -8.41638e-03  -8.41638e-03]\n",
      " [ -1.68011e-01   8.08128e-01   0.00000e+00  -0.00000e+00   0.00000e+00\n",
      "    7.05174e-02   7.05174e-02]\n",
      " [  0.00000e+00   0.00000e+00   2.52873e+00  -0.00000e+00   0.00000e+00\n",
      "    1.47091e-01  -1.47091e-01]\n",
      " [  0.00000e+00  -0.00000e+00  -0.00000e+00   2.52873e+00  -0.00000e+00\n",
      "    1.14920e-01   1.14920e-01]\n",
      " [ -0.00000e+00   0.00000e+00   0.00000e+00  -0.00000e+00   2.52873e+00\n",
      "   -0.00000e+00  -0.00000e+00]\n",
      " [ -8.41638e-03   7.05174e-02   1.47091e-01   1.14920e-01  -0.00000e+00\n",
      "    7.60032e-01  -3.97987e-03]\n",
      " [ -8.41638e-03   7.05174e-02  -1.47091e-01   1.14920e-01  -0.00000e+00\n",
      "   -3.97987e-03   7.60032e-01]] \n",
      "\n",
      "Nuclear Att. Integrals are  \n",
      " \n",
      " [[ -6.15806e+01  -7.41082e+00   0.00000e+00  -1.44738e-02   0.00000e+00\n",
      "   -1.23169e+00  -1.23169e+00]\n",
      " [ -7.41082e+00  -1.00091e+01   0.00000e+00  -1.76890e-01   0.00000e+00\n",
      "   -2.97723e+00  -2.97723e+00]\n",
      " [  0.00000e+00   0.00000e+00  -9.98755e+00   0.00000e+00  -0.00000e+00\n",
      "   -1.82224e+00   1.82224e+00]\n",
      " [ -1.44738e-02  -1.76890e-01   0.00000e+00  -9.94404e+00   0.00000e+00\n",
      "   -1.47179e+00  -1.47179e+00]\n",
      " [  0.00000e+00   0.00000e+00  -0.00000e+00   0.00000e+00  -9.87588e+00\n",
      "    0.00000e+00   1.00000e-15]\n",
      " [ -1.23169e+00  -2.97723e+00  -1.82224e+00  -1.47179e+00   0.00000e+00\n",
      "   -5.30020e+00  -1.06717e+00]\n",
      " [ -1.23169e+00  -2.97723e+00   1.82224e+00  -1.47179e+00   1.00000e-15\n",
      "   -1.06717e+00  -5.30020e+00]] \n",
      "\n",
      "This is the Core Hamiltonian Matrix \n",
      " \n",
      " [[ -3.25774e+01  -7.57883e+00   0.00000e+00  -1.44738e-02   0.00000e+00\n",
      "   -1.24010e+00  -1.24010e+00]\n",
      " [ -7.57883e+00  -9.20094e+00   0.00000e+00  -1.76890e-01   0.00000e+00\n",
      "   -2.90671e+00  -2.90671e+00]\n",
      " [  0.00000e+00   0.00000e+00  -7.45882e+00   0.00000e+00   0.00000e+00\n",
      "   -1.67515e+00   1.67515e+00]\n",
      " [ -1.44738e-02  -1.76890e-01   0.00000e+00  -7.41531e+00   0.00000e+00\n",
      "   -1.35687e+00  -1.35687e+00]\n",
      " [  0.00000e+00   0.00000e+00   0.00000e+00   0.00000e+00  -7.34714e+00\n",
      "    0.00000e+00   1.00000e-15]\n",
      " [ -1.24010e+00  -2.90671e+00  -1.67515e+00  -1.35687e+00   0.00000e+00\n",
      "   -4.54017e+00  -1.07115e+00]\n",
      " [ -1.24010e+00  -2.90671e+00   1.67515e+00  -1.35687e+00   1.00000e-15\n",
      "   -1.07115e+00  -4.54017e+00]] \n",
      "\n"
     ]
    },
    {
     "name": "stderr",
     "output_type": "stream",
     "text": [
      "/home/mintuser/anaconda3/lib/python3.6/site-packages/ipykernel/__main__.py:20: VisibleDeprecationWarning: using a non-integer number instead of an integer will result in an error in the future\n",
      "/home/mintuser/anaconda3/lib/python3.6/site-packages/ipykernel/__main__.py:25: VisibleDeprecationWarning: using a non-integer number instead of an integer will result in an error in the future\n",
      "/home/mintuser/anaconda3/lib/python3.6/site-packages/ipykernel/__main__.py:28: VisibleDeprecationWarning: using a non-integer number instead of an integer will result in an error in the future\n",
      "/home/mintuser/anaconda3/lib/python3.6/site-packages/ipykernel/__main__.py:33: VisibleDeprecationWarning: using a non-integer number instead of an integer will result in an error in the future\n"
     ]
    }
   ],
   "source": [
    "\"\"\"\n",
    "The Second-Order Moller-Plesset Perturbation Theory (MP2) Energy code\n",
    "\"\"\"\n",
    "\n",
    "import matplotlib.pyplot as plt\n",
    "import numpy as np\n",
    "\n",
    "\n",
    "nu_repul=np.loadtxt('enuc.dat')\n",
    "\n",
    "overlap=np.loadtxt('s.dat')\n",
    "over_mat=np.zeros((int(overlap[overlap.shape[0]-1,0]), int(overlap[overlap.shape[0]-1,0])))\n",
    "for row in range(overlap.shape[0]):\n",
    "    i1=int(overlap[row,0])\n",
    "    i2=int(overlap[row,1])\n",
    "    val=overlap[row,2]\n",
    "    over_mat[i1-1,i2-1]=over_mat[i2-1,i1-1]=val\n",
    "    \n",
    "kinetic=np.loadtxt('t.dat')\n",
    "kinetic_mat=np.zeros((kinetic[kinetic.shape[0]-1,0],kinetic[kinetic.shape[0]-1,0]))\n",
    "for row in range(kinetic.shape[0]):\n",
    "    i1=kinetic[row,0]\n",
    "    i2=kinetic[row,1]\n",
    "    val=kinetic[row,2]\n",
    "    kinetic_mat[i1-1,i2-1]=kinetic_mat[i2-1,i1-1]=val\n",
    "    \n",
    "nuk_att=np.loadtxt('v.dat')\n",
    "nuk_mat=np.zeros((nuk_att[nuk_att.shape[0]-1,0],nuk_att[nuk_att.shape[0]-1,0]))\n",
    "for row in range(nuk_att.shape[0]):\n",
    "    i1=nuk_att[row,0]\n",
    "    i2=nuk_att[row,1]\n",
    "    val=nuk_att[row,2]\n",
    "    nuk_mat[i1-1,i2-1]=nuk_mat[i2-1,i1-1]=val\n",
    "    \n",
    "\n",
    "\n",
    "np.set_printoptions(precision=5)\n",
    "print(\"Nuclear repulsion energy in Hartree \\n\",nu_repul,\"\\n\")\n",
    "print (\"Overlap Integral Matrix \\n \\n\", over_mat,\"\\n\")\n",
    "print (\"Kinetic Energy Matrix \\n \\n\", kinetic_mat,\"\\n\")\n",
    "print (\"Nuclear Att. Integrals are  \\n \\n\",nuk_mat,\"\\n\")\n",
    "\n",
    "H_core=kinetic_mat+nuk_mat\n",
    "print (\"This is the Core Hamiltonian Matrix \\n \\n\",H_core,\"\\n\")\n",
    "\n"
   ]
  },
  {
   "cell_type": "code",
   "execution_count": null,
   "metadata": {
    "collapsed": true
   },
   "outputs": [],
   "source": [
    "\n"
   ]
  },
  {
   "cell_type": "code",
   "execution_count": null,
   "metadata": {
    "collapsed": true
   },
   "outputs": [],
   "source": []
  }
 ],
 "metadata": {
  "celltoolbar": "Raw Cell Format",
  "kernelspec": {
   "display_name": "Python 3",
   "language": "python",
   "name": "python3"
  },
  "language_info": {
   "codemirror_mode": {
    "name": "ipython",
    "version": 3
   },
   "file_extension": ".py",
   "mimetype": "text/x-python",
   "name": "python",
   "nbconvert_exporter": "python",
   "pygments_lexer": "ipython3",
   "version": "3.6.0"
  }
 },
 "nbformat": 4,
 "nbformat_minor": 2
}
